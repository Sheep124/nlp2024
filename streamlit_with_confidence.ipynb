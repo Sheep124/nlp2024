{
 "cells": [
  {
   "cell_type": "code",
   "execution_count": 1,
   "id": "c96059cb",
   "metadata": {},
   "outputs": [
    {
     "ename": "NameError",
     "evalue": "name 'st' is not defined",
     "output_type": "error",
     "traceback": [
      "\u001b[1;31m---------------------------------------------------------------------------\u001b[0m",
      "\u001b[1;31mNameError\u001b[0m                                 Traceback (most recent call last)",
      "Cell \u001b[1;32mIn [1], line 52\u001b[0m\n\u001b[0;32m     49\u001b[0m             st\u001b[38;5;241m.\u001b[39mwrite(\u001b[38;5;124mf\u001b[39m\u001b[38;5;124m\"\u001b[39m\u001b[38;5;124mConfidence level: \u001b[39m\u001b[38;5;132;01m{\u001b[39;00mconfidence\u001b[38;5;132;01m}\u001b[39;00m\u001b[38;5;124m\"\u001b[39m)\n\u001b[0;32m     51\u001b[0m \u001b[38;5;28;01mif\u001b[39;00m \u001b[38;5;18m__name__\u001b[39m \u001b[38;5;241m==\u001b[39m \u001b[38;5;124m\"\u001b[39m\u001b[38;5;124m__main__\u001b[39m\u001b[38;5;124m\"\u001b[39m:\n\u001b[1;32m---> 52\u001b[0m     \u001b[43mmain\u001b[49m\u001b[43m(\u001b[49m\u001b[43m)\u001b[49m\n",
      "Cell \u001b[1;32mIn [1], line 43\u001b[0m, in \u001b[0;36mmain\u001b[1;34m()\u001b[0m\n\u001b[0;32m     42\u001b[0m \u001b[38;5;28;01mdef\u001b[39;00m \u001b[38;5;21mmain\u001b[39m():\n\u001b[1;32m---> 43\u001b[0m     \u001b[43mst\u001b[49m\u001b[38;5;241m.\u001b[39mtitle(\u001b[38;5;124m\"\u001b[39m\u001b[38;5;124mSentiment Analysis Chatbot\u001b[39m\u001b[38;5;124m\"\u001b[39m)\n\u001b[0;32m     44\u001b[0m     user_input \u001b[38;5;241m=\u001b[39m st\u001b[38;5;241m.\u001b[39mtext_input(\u001b[38;5;124m\"\u001b[39m\u001b[38;5;124mEnter your message:\u001b[39m\u001b[38;5;124m\"\u001b[39m)\n\u001b[0;32m     45\u001b[0m     \u001b[38;5;28;01mif\u001b[39;00m user_input:\n",
      "\u001b[1;31mNameError\u001b[0m: name 'st' is not defined"
     ]
    }
   ],
   "source": [
    "from sklearn.feature_extraction.text import TfidfVectorizer\n",
    "from sklearn.linear_model import LogisticRegression\n",
    "from sklearn.pipeline import Pipeline\n",
    "import numpy as np\n",
    "from sklearn.metrics import confusion_matrix, accuracy_score, precision_score, recall_score, f1_score\n",
    "import pandas as pd\n",
    "\n",
    "# Step 1: Prepare your dataset\n",
    "# Load your dataset containing text and sentiment labels\n",
    "finalData = pd.read_csv('Contraction Review & Sentiment Rating.csv', encoding='latin1')\n",
    "from sklearn.model_selection import train_test_split\n",
    "X_train, X_test, y_train, y_test = train_test_split(finalData['ContractionReview'], finalData['Sentiment_Rating'], test_size=0.2, random_state=42)\n",
    "\n",
    "\n",
    "# Step 2: Define preprocessing and modeling pipeline\n",
    "preprocessing_pipeline = Pipeline([\n",
    "    ('tfidf', TfidfVectorizer(max_features=1000)),  # You can customize TfidfVectorizer parameters here\n",
    "])\n",
    "\n",
    "model_pipeline = Pipeline([\n",
    "    ('preprocessing', preprocessing_pipeline),\n",
    "    ('logistic_regression', LogisticRegression(**{'C': 1, 'penalty': 'l2', 'solver': 'liblinear'})),  # You can customize LogisticRegression parameters here\n",
    "])\n",
    "\n",
    "\n",
    "# Step 3: Train the model\n",
    "# Assuming your data is split into X_train (text data) and y_train (sentiment labels)\n",
    "model_pipeline.fit(X_train, y_train)\n",
    "\n",
    "# Function to predict sentiment and return confidence level\n",
    "def predict_sentiment(text):\n",
    "    try:\n",
    "        # Predict sentiment after fitting the pipeline\n",
    "        sentiment_prob = model_pipeline.predict_proba([text])[0]\n",
    "        predicted_sentiment = model_pipeline.predict([text])[0]\n",
    "        confidence_level = max(sentiment_prob)  # Confidence level is the maximum probability\n",
    "        return predicted_sentiment, confidence_level\n",
    "    except Exception as e:\n",
    "        return str(e), None  # Return None for confidence level if prediction fails\n",
    "\n",
    "# Streamlit app\n",
    "def main():\n",
    "    st.title(\"Sentiment Analysis Chatbot\")\n",
    "    user_input = st.text_input(\"Enter your message:\")\n",
    "    if user_input:\n",
    "        sentiment, confidence = predict_sentiment(user_input)\n",
    "        if confidence is not None:\n",
    "            st.write(f\"Predicted sentiment: {sentiment}\")\n",
    "            st.write(f\"Confidence level: {confidence}\")\n",
    "\n",
    "if __name__ == \"__main__\":\n",
    "    main()\n"
   ]
  },
  {
   "cell_type": "code",
   "execution_count": null,
   "id": "0d3f76a3",
   "metadata": {},
   "outputs": [],
   "source": []
  }
 ],
 "metadata": {
  "kernelspec": {
   "display_name": "Python 3 (ipykernel)",
   "language": "python",
   "name": "python3"
  },
  "language_info": {
   "codemirror_mode": {
    "name": "ipython",
    "version": 3
   },
   "file_extension": ".py",
   "mimetype": "text/x-python",
   "name": "python",
   "nbconvert_exporter": "python",
   "pygments_lexer": "ipython3",
   "version": "3.10.9"
  }
 },
 "nbformat": 4,
 "nbformat_minor": 5
}
