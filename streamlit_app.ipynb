{
 "cells": [
  {
   "cell_type": "code",
   "execution_count": 2,
   "id": "4079a2f3",
   "metadata": {},
   "outputs": [],
   "source": [
    "import pandas as pd"
   ]
  },
  {
   "cell_type": "code",
   "execution_count": 16,
   "id": "0e36ff3a",
   "metadata": {},
   "outputs": [
    {
     "data": {
      "text/plain": [
       "Index(['translated_text', 'Product Review', 'stopword_text', 'tokenised_text',\n",
       "       'normalise_text', 'stemming_text', 'lemma_text', 'POS_Tags',\n",
       "       'Sentiment_Rating'],\n",
       "      dtype='object')"
      ]
     },
     "execution_count": 16,
     "metadata": {},
     "output_type": "execute_result"
    }
   ],
   "source": [
    "prodata = pd.read_csv('processed_data.csv')\n",
    "selected_column = ['lemma_text','Sentiment_Rating']\n",
    "prodata.columns"
   ]
  },
  {
   "cell_type": "code",
   "execution_count": 17,
   "id": "e01ed0a7",
   "metadata": {},
   "outputs": [
    {
     "data": {
      "text/html": [
       "<div>\n",
       "<style scoped>\n",
       "    .dataframe tbody tr th:only-of-type {\n",
       "        vertical-align: middle;\n",
       "    }\n",
       "\n",
       "    .dataframe tbody tr th {\n",
       "        vertical-align: top;\n",
       "    }\n",
       "\n",
       "    .dataframe thead th {\n",
       "        text-align: right;\n",
       "    }\n",
       "</style>\n",
       "<table border=\"1\" class=\"dataframe\">\n",
       "  <thead>\n",
       "    <tr style=\"text-align: right;\">\n",
       "      <th></th>\n",
       "      <th>lemma_text</th>\n",
       "      <th>Sentiment_Rating</th>\n",
       "    </tr>\n",
       "  </thead>\n",
       "  <tbody>\n",
       "    <tr>\n",
       "      <th>0</th>\n",
       "      <td>Baju kurta Sampai Dalam Keadaan Baik Tapi Tari...</td>\n",
       "      <td>Neutral</td>\n",
       "    </tr>\n",
       "    <tr>\n",
       "      <th>1</th>\n",
       "      <td>SIZING TINDA Tepat Langsung Aku Rasa Macam Baj...</td>\n",
       "      <td>Negative</td>\n",
       "    </tr>\n",
       "    <tr>\n",
       "      <th>2</th>\n",
       "      <td>Baju kurta saya dah koyak Sebelum pakai memang...</td>\n",
       "      <td>Negative</td>\n",
       "    </tr>\n",
       "    <tr>\n",
       "      <th>3</th>\n",
       "      <td>Penghantaran Laju Kain Cantik Terima kasih Pen...</td>\n",
       "      <td>Positive</td>\n",
       "    </tr>\n",
       "    <tr>\n",
       "      <th>4</th>\n",
       "      <td>Baju Selamat Mendarat Kain Cantik Dan Sedap Di...</td>\n",
       "      <td>Positive</td>\n",
       "    </tr>\n",
       "    <tr>\n",
       "      <th>...</th>\n",
       "      <td>...</td>\n",
       "      <td>...</td>\n",
       "    </tr>\n",
       "    <tr>\n",
       "      <th>1843</th>\n",
       "      <td>Ons the shirt there is a red tried to wash still</td>\n",
       "      <td>Neutral</td>\n",
       "    </tr>\n",
       "    <tr>\n",
       "      <th>1844</th>\n",
       "      <td>The color is slightly different from the pictu...</td>\n",
       "      <td>Negative</td>\n",
       "    </tr>\n",
       "    <tr>\n",
       "      <th>1845</th>\n",
       "      <td>The color of our nude asks for another color t...</td>\n",
       "      <td>Negative</td>\n",
       "    </tr>\n",
       "    <tr>\n",
       "      <th>1846</th>\n",
       "      <td>Reject following the size I want</td>\n",
       "      <td>Positive</td>\n",
       "    </tr>\n",
       "    <tr>\n",
       "      <th>1847</th>\n",
       "      <td>The size of the pull is the same size</td>\n",
       "      <td>Negative</td>\n",
       "    </tr>\n",
       "  </tbody>\n",
       "</table>\n",
       "<p>1848 rows × 2 columns</p>\n",
       "</div>"
      ],
      "text/plain": [
       "                                             lemma_text Sentiment_Rating\n",
       "0     Baju kurta Sampai Dalam Keadaan Baik Tapi Tari...          Neutral\n",
       "1     SIZING TINDA Tepat Langsung Aku Rasa Macam Baj...         Negative\n",
       "2     Baju kurta saya dah koyak Sebelum pakai memang...         Negative\n",
       "3     Penghantaran Laju Kain Cantik Terima kasih Pen...         Positive\n",
       "4     Baju Selamat Mendarat Kain Cantik Dan Sedap Di...         Positive\n",
       "...                                                 ...              ...\n",
       "1843   Ons the shirt there is a red tried to wash still          Neutral\n",
       "1844  The color is slightly different from the pictu...         Negative\n",
       "1845  The color of our nude asks for another color t...         Negative\n",
       "1846                   Reject following the size I want         Positive\n",
       "1847              The size of the pull is the same size         Negative\n",
       "\n",
       "[1848 rows x 2 columns]"
      ]
     },
     "execution_count": 17,
     "metadata": {},
     "output_type": "execute_result"
    }
   ],
   "source": [
    "prodata[selected_column]"
   ]
  },
  {
   "cell_type": "code",
   "execution_count": null,
   "id": "4352102e",
   "metadata": {},
   "outputs": [],
   "source": [
    "#prodata['translated_text']"
   ]
  },
  {
   "cell_type": "code",
   "execution_count": null,
   "id": "46bee284",
   "metadata": {},
   "outputs": [],
   "source": [
    "#prodata['removePunc_text']"
   ]
  },
  {
   "cell_type": "code",
   "execution_count": null,
   "id": "0d1a2a9b",
   "metadata": {},
   "outputs": [],
   "source": [
    "#prodata['tokenised_text']"
   ]
  },
  {
   "cell_type": "code",
   "execution_count": null,
   "id": "c0993925",
   "metadata": {},
   "outputs": [],
   "source": [
    "#prodata['normalise_text']"
   ]
  },
  {
   "cell_type": "code",
   "execution_count": null,
   "id": "938d19c3",
   "metadata": {},
   "outputs": [],
   "source": [
    "#prodata['POS_Tags']"
   ]
  },
  {
   "cell_type": "code",
   "execution_count": null,
   "id": "20f968dd",
   "metadata": {},
   "outputs": [],
   "source": [
    "#prodata['lemma_text']"
   ]
  },
  {
   "cell_type": "code",
   "execution_count": null,
   "id": "11e7b469",
   "metadata": {},
   "outputs": [],
   "source": [
    "#prodata['Sentiment_Rating']"
   ]
  },
  {
   "cell_type": "code",
   "execution_count": 18,
   "id": "0f39f835",
   "metadata": {},
   "outputs": [],
   "source": [
    "prodata.dropna(subset=['lemma_text', 'Sentiment_Rating'], inplace=True)"
   ]
  },
  {
   "cell_type": "code",
   "execution_count": null,
   "id": "960bcc4d",
   "metadata": {},
   "outputs": [],
   "source": []
  },
  {
   "cell_type": "code",
   "execution_count": 24,
   "id": "21b7403f",
   "metadata": {},
   "outputs": [
    {
     "ename": "ImportError",
     "evalue": "cannot import name 'builder' from 'google.protobuf.internal' (C:\\Users\\kenne\\anaconda3\\lib\\site-packages\\google\\protobuf\\internal\\__init__.py)",
     "output_type": "error",
     "traceback": [
      "\u001b[1;31m---------------------------------------------------------------------------\u001b[0m",
      "\u001b[1;31mImportError\u001b[0m                               Traceback (most recent call last)",
      "Cell \u001b[1;32mIn [24], line 1\u001b[0m\n\u001b[1;32m----> 1\u001b[0m \u001b[38;5;28;01mimport\u001b[39;00m \u001b[38;5;21;01mstreamlit\u001b[39;00m \u001b[38;5;28;01mas\u001b[39;00m \u001b[38;5;21;01mst\u001b[39;00m\n\u001b[0;32m      2\u001b[0m \u001b[38;5;28;01mfrom\u001b[39;00m \u001b[38;5;21;01msklearn\u001b[39;00m\u001b[38;5;21;01m.\u001b[39;00m\u001b[38;5;21;01mfeature_extraction\u001b[39;00m\u001b[38;5;21;01m.\u001b[39;00m\u001b[38;5;21;01mtext\u001b[39;00m \u001b[38;5;28;01mimport\u001b[39;00m TfidfVectorizer\n\u001b[0;32m      3\u001b[0m \u001b[38;5;28;01mfrom\u001b[39;00m \u001b[38;5;21;01mgoogletrans\u001b[39;00m \u001b[38;5;28;01mimport\u001b[39;00m Translator\n",
      "File \u001b[1;32m~\\anaconda3\\lib\\site-packages\\streamlit\\__init__.py:69\u001b[0m\n\u001b[0;32m     66\u001b[0m \u001b[38;5;66;03m# Give the package a version.\u001b[39;00m\n\u001b[0;32m     67\u001b[0m __version__ \u001b[38;5;241m=\u001b[39m _STREAMLIT_VERSION_STRING\n\u001b[1;32m---> 69\u001b[0m \u001b[38;5;28;01mfrom\u001b[39;00m \u001b[38;5;21;01mstreamlit\u001b[39;00m\u001b[38;5;21;01m.\u001b[39;00m\u001b[38;5;21;01mdelta_generator\u001b[39;00m \u001b[38;5;28;01mimport\u001b[39;00m (\n\u001b[0;32m     70\u001b[0m     main_dg \u001b[38;5;28;01mas\u001b[39;00m _main_dg,\n\u001b[0;32m     71\u001b[0m     sidebar_dg \u001b[38;5;28;01mas\u001b[39;00m _sidebar_dg,\n\u001b[0;32m     72\u001b[0m     event_dg \u001b[38;5;28;01mas\u001b[39;00m _event_dg,\n\u001b[0;32m     73\u001b[0m     bottom_dg \u001b[38;5;28;01mas\u001b[39;00m _bottom_dg,\n\u001b[0;32m     74\u001b[0m )\n\u001b[0;32m     75\u001b[0m \u001b[38;5;28;01mfrom\u001b[39;00m \u001b[38;5;21;01mstreamlit\u001b[39;00m\u001b[38;5;21;01m.\u001b[39;00m\u001b[38;5;21;01melements\u001b[39;00m\u001b[38;5;21;01m.\u001b[39;00m\u001b[38;5;21;01mdialog_decorator\u001b[39;00m \u001b[38;5;28;01mimport\u001b[39;00m (\n\u001b[0;32m     76\u001b[0m     \u001b[38;5;66;03m# rename so that it is available as st.dialog\u001b[39;00m\n\u001b[0;32m     77\u001b[0m     dialog_decorator \u001b[38;5;28;01mas\u001b[39;00m experimental_dialog,\n\u001b[0;32m     78\u001b[0m )\n\u001b[0;32m     79\u001b[0m \u001b[38;5;28;01mfrom\u001b[39;00m \u001b[38;5;21;01mstreamlit\u001b[39;00m\u001b[38;5;21;01m.\u001b[39;00m\u001b[38;5;21;01mruntime\u001b[39;00m\u001b[38;5;21;01m.\u001b[39;00m\u001b[38;5;21;01mcaching\u001b[39;00m \u001b[38;5;28;01mimport\u001b[39;00m (\n\u001b[0;32m     80\u001b[0m     cache_resource \u001b[38;5;28;01mas\u001b[39;00m _cache_resource,\n\u001b[0;32m     81\u001b[0m     cache_data \u001b[38;5;28;01mas\u001b[39;00m _cache_data,\n\u001b[0;32m     82\u001b[0m     experimental_singleton \u001b[38;5;28;01mas\u001b[39;00m _experimental_singleton,\n\u001b[0;32m     83\u001b[0m     experimental_memo \u001b[38;5;28;01mas\u001b[39;00m _experimental_memo,\n\u001b[0;32m     84\u001b[0m )\n",
      "File \u001b[1;32m~\\anaconda3\\lib\\site-packages\\streamlit\\delta_generator.py:37\u001b[0m\n\u001b[0;32m     21\u001b[0m \u001b[38;5;28;01mfrom\u001b[39;00m \u001b[38;5;21;01mcopy\u001b[39;00m \u001b[38;5;28;01mimport\u001b[39;00m deepcopy\n\u001b[0;32m     22\u001b[0m \u001b[38;5;28;01mfrom\u001b[39;00m \u001b[38;5;21;01mtyping\u001b[39;00m \u001b[38;5;28;01mimport\u001b[39;00m (\n\u001b[0;32m     23\u001b[0m     TYPE_CHECKING,\n\u001b[0;32m     24\u001b[0m     Any,\n\u001b[1;32m   (...)\u001b[0m\n\u001b[0;32m     34\u001b[0m     overload,\n\u001b[0;32m     35\u001b[0m )\n\u001b[1;32m---> 37\u001b[0m \u001b[38;5;28;01mfrom\u001b[39;00m \u001b[38;5;21;01mstreamlit\u001b[39;00m \u001b[38;5;28;01mimport\u001b[39;00m (\n\u001b[0;32m     38\u001b[0m     cli_util,\n\u001b[0;32m     39\u001b[0m     config,\n\u001b[0;32m     40\u001b[0m     cursor,\n\u001b[0;32m     41\u001b[0m     env_util,\n\u001b[0;32m     42\u001b[0m     logger,\n\u001b[0;32m     43\u001b[0m     runtime,\n\u001b[0;32m     44\u001b[0m     type_util,\n\u001b[0;32m     45\u001b[0m     util,\n\u001b[0;32m     46\u001b[0m )\n\u001b[0;32m     47\u001b[0m \u001b[38;5;28;01mfrom\u001b[39;00m \u001b[38;5;21;01mstreamlit\u001b[39;00m\u001b[38;5;21;01m.\u001b[39;00m\u001b[38;5;21;01mcursor\u001b[39;00m \u001b[38;5;28;01mimport\u001b[39;00m Cursor\n\u001b[0;32m     48\u001b[0m \u001b[38;5;28;01mfrom\u001b[39;00m \u001b[38;5;21;01mstreamlit\u001b[39;00m\u001b[38;5;21;01m.\u001b[39;00m\u001b[38;5;21;01melements\u001b[39;00m\u001b[38;5;21;01m.\u001b[39;00m\u001b[38;5;21;01malert\u001b[39;00m \u001b[38;5;28;01mimport\u001b[39;00m AlertMixin\n",
      "File \u001b[1;32m~\\anaconda3\\lib\\site-packages\\streamlit\\cursor.py:20\u001b[0m\n\u001b[0;32m     17\u001b[0m \u001b[38;5;28;01mfrom\u001b[39;00m \u001b[38;5;21;01mtyping\u001b[39;00m \u001b[38;5;28;01mimport\u001b[39;00m Any\n\u001b[0;32m     19\u001b[0m \u001b[38;5;28;01mfrom\u001b[39;00m \u001b[38;5;21;01mstreamlit\u001b[39;00m \u001b[38;5;28;01mimport\u001b[39;00m util\n\u001b[1;32m---> 20\u001b[0m \u001b[38;5;28;01mfrom\u001b[39;00m \u001b[38;5;21;01mstreamlit\u001b[39;00m\u001b[38;5;21;01m.\u001b[39;00m\u001b[38;5;21;01mruntime\u001b[39;00m\u001b[38;5;21;01m.\u001b[39;00m\u001b[38;5;21;01mscriptrunner\u001b[39;00m \u001b[38;5;28;01mimport\u001b[39;00m get_script_run_ctx\n\u001b[0;32m     23\u001b[0m \u001b[38;5;28;01mdef\u001b[39;00m \u001b[38;5;21mmake_delta_path\u001b[39m(\n\u001b[0;32m     24\u001b[0m     root_container: \u001b[38;5;28mint\u001b[39m, parent_path: \u001b[38;5;28mtuple\u001b[39m[\u001b[38;5;28mint\u001b[39m, \u001b[38;5;241m.\u001b[39m\u001b[38;5;241m.\u001b[39m\u001b[38;5;241m.\u001b[39m], index: \u001b[38;5;28mint\u001b[39m\n\u001b[0;32m     25\u001b[0m ) \u001b[38;5;241m-\u001b[39m\u001b[38;5;241m>\u001b[39m \u001b[38;5;28mlist\u001b[39m[\u001b[38;5;28mint\u001b[39m]:\n\u001b[0;32m     26\u001b[0m     delta_path \u001b[38;5;241m=\u001b[39m [root_container]\n",
      "File \u001b[1;32m~\\anaconda3\\lib\\site-packages\\streamlit\\runtime\\__init__.py:17\u001b[0m\n\u001b[0;32m      1\u001b[0m \u001b[38;5;66;03m# Copyright (c) Streamlit Inc. (2018-2022) Snowflake Inc. (2022-2024)\u001b[39;00m\n\u001b[0;32m      2\u001b[0m \u001b[38;5;66;03m#\u001b[39;00m\n\u001b[0;32m      3\u001b[0m \u001b[38;5;66;03m# Licensed under the Apache License, Version 2.0 (the \"License\");\u001b[39;00m\n\u001b[1;32m   (...)\u001b[0m\n\u001b[0;32m     12\u001b[0m \u001b[38;5;66;03m# See the License for the specific language governing permissions and\u001b[39;00m\n\u001b[0;32m     13\u001b[0m \u001b[38;5;66;03m# limitations under the License.\u001b[39;00m\n\u001b[0;32m     15\u001b[0m \u001b[38;5;28;01mfrom\u001b[39;00m \u001b[38;5;21;01m__future__\u001b[39;00m \u001b[38;5;28;01mimport\u001b[39;00m annotations\n\u001b[1;32m---> 17\u001b[0m \u001b[38;5;28;01mfrom\u001b[39;00m \u001b[38;5;21;01mstreamlit\u001b[39;00m\u001b[38;5;21;01m.\u001b[39;00m\u001b[38;5;21;01mruntime\u001b[39;00m\u001b[38;5;21;01m.\u001b[39;00m\u001b[38;5;21;01mruntime\u001b[39;00m \u001b[38;5;28;01mimport\u001b[39;00m Runtime, RuntimeConfig, RuntimeState\n\u001b[0;32m     18\u001b[0m \u001b[38;5;28;01mfrom\u001b[39;00m \u001b[38;5;21;01mstreamlit\u001b[39;00m\u001b[38;5;21;01m.\u001b[39;00m\u001b[38;5;21;01mruntime\u001b[39;00m\u001b[38;5;21;01m.\u001b[39;00m\u001b[38;5;21;01msession_manager\u001b[39;00m \u001b[38;5;28;01mimport\u001b[39;00m (\n\u001b[0;32m     19\u001b[0m     SessionClient,\n\u001b[0;32m     20\u001b[0m     SessionClientDisconnectedError,\n\u001b[0;32m     21\u001b[0m )\n\u001b[0;32m     24\u001b[0m \u001b[38;5;28;01mdef\u001b[39;00m \u001b[38;5;21mget_instance\u001b[39m() \u001b[38;5;241m-\u001b[39m\u001b[38;5;241m>\u001b[39m Runtime:\n",
      "File \u001b[1;32m~\\anaconda3\\lib\\site-packages\\streamlit\\runtime\\runtime.py:28\u001b[0m\n\u001b[0;32m     26\u001b[0m \u001b[38;5;28;01mfrom\u001b[39;00m \u001b[38;5;21;01mstreamlit\u001b[39;00m\u001b[38;5;21;01m.\u001b[39;00m\u001b[38;5;21;01mcomponents\u001b[39;00m\u001b[38;5;21;01m.\u001b[39;00m\u001b[38;5;21;01mtypes\u001b[39;00m\u001b[38;5;21;01m.\u001b[39;00m\u001b[38;5;21;01mbase_component_registry\u001b[39;00m \u001b[38;5;28;01mimport\u001b[39;00m BaseComponentRegistry\n\u001b[0;32m     27\u001b[0m \u001b[38;5;28;01mfrom\u001b[39;00m \u001b[38;5;21;01mstreamlit\u001b[39;00m\u001b[38;5;21;01m.\u001b[39;00m\u001b[38;5;21;01mlogger\u001b[39;00m \u001b[38;5;28;01mimport\u001b[39;00m get_logger\n\u001b[1;32m---> 28\u001b[0m \u001b[38;5;28;01mfrom\u001b[39;00m \u001b[38;5;21;01mstreamlit\u001b[39;00m\u001b[38;5;21;01m.\u001b[39;00m\u001b[38;5;21;01mproto\u001b[39;00m\u001b[38;5;21;01m.\u001b[39;00m\u001b[38;5;21;01mBackMsg_pb2\u001b[39;00m \u001b[38;5;28;01mimport\u001b[39;00m BackMsg\n\u001b[0;32m     29\u001b[0m \u001b[38;5;28;01mfrom\u001b[39;00m \u001b[38;5;21;01mstreamlit\u001b[39;00m\u001b[38;5;21;01m.\u001b[39;00m\u001b[38;5;21;01mproto\u001b[39;00m\u001b[38;5;21;01m.\u001b[39;00m\u001b[38;5;21;01mForwardMsg_pb2\u001b[39;00m \u001b[38;5;28;01mimport\u001b[39;00m ForwardMsg\n\u001b[0;32m     30\u001b[0m \u001b[38;5;28;01mfrom\u001b[39;00m \u001b[38;5;21;01mstreamlit\u001b[39;00m\u001b[38;5;21;01m.\u001b[39;00m\u001b[38;5;21;01mruntime\u001b[39;00m\u001b[38;5;21;01m.\u001b[39;00m\u001b[38;5;21;01mapp_session\u001b[39;00m \u001b[38;5;28;01mimport\u001b[39;00m AppSession\n",
      "File \u001b[1;32m~\\anaconda3\\lib\\site-packages\\streamlit\\proto\\BackMsg_pb2.py:5\u001b[0m\n\u001b[0;32m      1\u001b[0m \u001b[38;5;66;03m# -*- coding: utf-8 -*-\u001b[39;00m\n\u001b[0;32m      2\u001b[0m \u001b[38;5;66;03m# Generated by the protocol buffer compiler.  DO NOT EDIT!\u001b[39;00m\n\u001b[0;32m      3\u001b[0m \u001b[38;5;66;03m# source: streamlit/proto/BackMsg.proto\u001b[39;00m\n\u001b[0;32m      4\u001b[0m \u001b[38;5;124;03m\"\"\"Generated protocol buffer code.\"\"\"\u001b[39;00m\n\u001b[1;32m----> 5\u001b[0m \u001b[38;5;28;01mfrom\u001b[39;00m \u001b[38;5;21;01mgoogle\u001b[39;00m\u001b[38;5;21;01m.\u001b[39;00m\u001b[38;5;21;01mprotobuf\u001b[39;00m\u001b[38;5;21;01m.\u001b[39;00m\u001b[38;5;21;01minternal\u001b[39;00m \u001b[38;5;28;01mimport\u001b[39;00m builder \u001b[38;5;28;01mas\u001b[39;00m _builder\n\u001b[0;32m      6\u001b[0m \u001b[38;5;28;01mfrom\u001b[39;00m \u001b[38;5;21;01mgoogle\u001b[39;00m\u001b[38;5;21;01m.\u001b[39;00m\u001b[38;5;21;01mprotobuf\u001b[39;00m \u001b[38;5;28;01mimport\u001b[39;00m descriptor \u001b[38;5;28;01mas\u001b[39;00m _descriptor\n\u001b[0;32m      7\u001b[0m \u001b[38;5;28;01mfrom\u001b[39;00m \u001b[38;5;21;01mgoogle\u001b[39;00m\u001b[38;5;21;01m.\u001b[39;00m\u001b[38;5;21;01mprotobuf\u001b[39;00m \u001b[38;5;28;01mimport\u001b[39;00m descriptor_pool \u001b[38;5;28;01mas\u001b[39;00m _descriptor_pool\n",
      "\u001b[1;31mImportError\u001b[0m: cannot import name 'builder' from 'google.protobuf.internal' (C:\\Users\\kenne\\anaconda3\\lib\\site-packages\\google\\protobuf\\internal\\__init__.py)"
     ]
    }
   ],
   "source": [
    "import streamlit as st\n",
    "from sklearn.feature_extraction.text import TfidfVectorizer\n",
    "from googletrans import Translator\n",
    "\n",
    "\n",
    "finalData = pd.read_csv('Contraction Review & Sentiment Rating.csv')\n",
    "\n",
    "# Assuming 'x_train' is your training data\n",
    "tfidf_vectorizer = TfidfVectorizer(max_features=1000)\n",
    "x = tfidf_vectorizer.fit_transform(finalData['lemma_text'])\n",
    "y = finalData['Sentiment_Rating']\n",
    "\n",
    "x_train_tfidf, x_test_tfidf, y_train, y_test = train_test_split(x,y , test_size=0.2, random_state=42)\n",
    "\n",
    "rf_classifier_tfidf = RandomForestClassifier(**{'max_depth': 80, 'max_features': 'sqrt', 'n_estimators': 100})\n",
    "\n",
    "# Initialize the translator object\n",
    "translator = Translator()\n",
    "\n",
    "\n",
    "\n",
    "\n",
    "# Fit the classifier on the training data\n",
    "rf_classifier_tfidf.fit(x_train_tfidf, y_train)\n",
    "# Predict on the testing data\n",
    "rf_predictions_tfidf = rf_classifier_tfidf.predict(x_test_tfidf)\n",
    "\n",
    "# Function to analyze sentiment\n",
    "def analyze_sentiment(review):\n",
    "    if review:\n",
    "        # Translate the review to Malay\n",
    "        translation = translator.translate(review, dest='ms')\n",
    "        translated_review = translation.text\n",
    "\n",
    "        # Vectorize the translated review\n",
    "        review_vectorized = tfidf_vectorizer.transform([translated_review])\n",
    "\n",
    "        # Predict sentiment and get probability estimates\n",
    "        sentiment = rf_classifier_tfidf.predict(review_vectorized)[0]\n",
    "        confidence = rf_classifier_tfidf.predict_proba(review_vectorized)\n",
    "        confidence_level = max(confidence[0]) * 100\n",
    "\n",
    "        return sentiment, confidence_level\n",
    "    else:\n",
    "        return \"Please enter a review.\", None\n",
    "\n",
    "# Streamlit app\n",
    "def main():\n",
    "    st.title(\"Sentiment Analysis\")\n",
    "\n",
    "    # Input text area for entering review\n",
    "    review = st.text_area(\"Enter Review:\", height=100)\n",
    "\n",
    "    # Analyze button to perform sentiment analysis\n",
    "    if st.button(\"Analyze\"):\n",
    "        sentiment, confidence_level = analyze_sentiment(review)\n",
    "        \n",
    "        # Display sentiment result\n",
    "        if sentiment:\n",
    "            if sentiment == 'Positive':\n",
    "                st.success(f\"It is a {sentiment} review with {confidence_level:.2f}% confidence.\")\n",
    "            else:\n",
    "                st.error(f\"It is a {sentiment} review with {confidence_level:.2f}% confidence.\")\n",
    "        else:\n",
    "            st.warning(\"Please enter a review.\")\n",
    "\n",
    "if __name__ == \"__main__\":\n",
    "    main()\n"
   ]
  },
  {
   "cell_type": "code",
   "execution_count": null,
   "id": "6cef09ca",
   "metadata": {},
   "outputs": [],
   "source": []
  },
  {
   "cell_type": "code",
   "execution_count": null,
   "id": "268ba014",
   "metadata": {},
   "outputs": [],
   "source": []
  }
 ],
 "metadata": {
  "kernelspec": {
   "display_name": "Python 3 (ipykernel)",
   "language": "python",
   "name": "python3"
  },
  "language_info": {
   "codemirror_mode": {
    "name": "ipython",
    "version": 3
   },
   "file_extension": ".py",
   "mimetype": "text/x-python",
   "name": "python",
   "nbconvert_exporter": "python",
   "pygments_lexer": "ipython3",
   "version": "3.10.9"
  }
 },
 "nbformat": 4,
 "nbformat_minor": 5
}
