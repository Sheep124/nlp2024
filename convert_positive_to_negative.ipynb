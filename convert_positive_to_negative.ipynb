{
 "cells": [
  {
   "cell_type": "code",
   "execution_count": 3,
   "id": "74f3328e",
   "metadata": {},
   "outputs": [
    {
     "name": "stderr",
     "output_type": "stream",
     "text": [
      "2024-05-10 14:02:27.258 Session state does not function when running a script without `streamlit run`\n"
     ]
    }
   ],
   "source": [
    "import streamlit as st\n",
    "import pandas as pd\n",
    "from sklearn.feature_extraction.text import TfidfVectorizer\n",
    "from sklearn.linear_model import LogisticRegression\n",
    "from sklearn.pipeline import Pipeline\n",
    "\n",
    "# Function to preprocess the text data\n",
    "def preprocess_text(text):\n",
    "    # Add preprocessing steps here (e.g., tokenization, removing stopwords)\n",
    "    return text\n",
    "\n",
    "# Load the dataset\n",
    "def load_data():\n",
    "    data = pd.read_csv('Contraction Review & Sentiment Rating.csv')  # Load your dataset here\n",
    "    return data\n",
    "\n",
    "# Train the logistic regression model\n",
    "def train_model(data):\n",
    "    tfidf_vectorizer = TfidfVectorizer(preprocessor=preprocess_text)\n",
    "    logistic_regression = LogisticRegression(**{'C': 1, 'penalty': 'l2', 'solver': 'liblinear'})\n",
    "    model_pipeline = Pipeline([('tfidf', tfidf_vectorizer), ('logistic_reg', logistic_regression)])\n",
    "    model_pipeline.fit(data['ContractionReview'], data['Sentiment_Rating'])\n",
    "    return model_pipeline\n",
    "\n",
    "# Convert sentiment from positive to negative\n",
    "def convert_sentiment(text, model_pipeline):\n",
    "    predicted_sentiment = model_pipeline.predict([text])\n",
    "    if predicted_sentiment[0] == 'positive':\n",
    "        return 'negative'\n",
    "    else:\n",
    "        return 'positive'\n",
    "\n",
    "# Main function to run the Streamlit app\n",
    "def main():\n",
    "    st.title(\"Sentiment Converter App\")\n",
    "    \n",
    "    # Load the data and train the model\n",
    "    data = load_data()\n",
    "    model_pipeline = train_model(data)\n",
    "    \n",
    "    # Input text box\n",
    "    user_input = st.text_area(\"Enter your text:\", \"\")\n",
    "    \n",
    "    # Convert sentiment button\n",
    "    if st.button(\"Convert Sentiment\"):\n",
    "        converted_sentiment = convert_sentiment(user_input, model_pipeline)\n",
    "        st.write(f\"Converted sentiment: {converted_sentiment}\")\n",
    "\n",
    "if __name__ == \"__main__\":\n",
    "    main()\n"
   ]
  },
  {
   "cell_type": "code",
   "execution_count": null,
   "id": "d9e3a294",
   "metadata": {},
   "outputs": [],
   "source": []
  }
 ],
 "metadata": {
  "kernelspec": {
   "display_name": "Python 3 (ipykernel)",
   "language": "python",
   "name": "python3"
  },
  "language_info": {
   "codemirror_mode": {
    "name": "ipython",
    "version": 3
   },
   "file_extension": ".py",
   "mimetype": "text/x-python",
   "name": "python",
   "nbconvert_exporter": "python",
   "pygments_lexer": "ipython3",
   "version": "3.10.9"
  }
 },
 "nbformat": 4,
 "nbformat_minor": 5
}
